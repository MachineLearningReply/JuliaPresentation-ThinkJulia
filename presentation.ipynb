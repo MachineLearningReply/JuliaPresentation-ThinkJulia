{
 "cells": [
  {
   "attachments": {
    "image.png": {
     "image/png": "[encoded data removed]"
    }
   },
   "cell_type": "markdown",
   "metadata": {},
   "source": [
    "# https://bit.ly/3drychM\n",
    "\n",
    "![JuliaLogo](https://julialang.org/assets/infra/logo.svg)\n",
    "# Welcome to the introductory tutorial to Julia\n",
    "This tutorial will lead you through the core features of Julia. The examples are taken and adapted from a famous [julia talk about multiple dispatch and reusability](https://www.youtube.com/watch?reload=9&reload=9&v=kc9HwsxE1OY).\n",
    "\n",
    "\n",
    "This is a Juypter notebook which runs Julia as the kernel. You can actually interact with it, adapt code, and run code cells. You run cells and jump to the next by pressing SHIFT + ENTER. ![image.png](attachment:image.png)"
   ]
  },
  {
   "cell_type": "markdown",
   "metadata": {},
   "source": [
    "## Custom Types\n",
    "\n",
    "In julia you can easily define your custom type hierarchy.\n",
    "\n",
    "A notable difference to other type systems is that abstract types in julia do not have any attributes, but only serve to define the hierarchy."
   ]
  },
  {
   "cell_type": "code",
   "execution_count": null,
   "metadata": {},
   "outputs": [],
   "source": [
    "abstract type Pet end\n",
    "struct Dog <: Pet\n",
    "    name::String\n",
    "end\n",
    "struct Cat <: Pet\n",
    "    name::String\n",
    "end"
   ]
  },
  {
   "cell_type": "markdown",
   "metadata": {},
   "source": [
    "We can instantiate the struct types by simple call syntax. They come with a default constructor."
   ]
  },
  {
   "cell_type": "code",
   "execution_count": null,
   "metadata": {},
   "outputs": [],
   "source": [
    "fido     = Dog(\"Fido\")\n",
    "rex      = Dog(\"Rex\")\n",
    "whiskers = Cat(\"Whiskers\")\n",
    "spots    = Cat(\"Spots\")"
   ]
  },
  {
   "cell_type": "markdown",
   "metadata": {},
   "source": [
    "## Defining Generic Functions\n",
    "\n",
    "In julia you can define functions assuming whatever other functions you want. All contracts/interfaces are by convention/documentation.\n",
    "\n",
    "For instance the following `encounter` assumes that `meets` and `names` are defined for the arguments."
   ]
  },
  {
   "cell_type": "code",
   "execution_count": null,
   "metadata": {},
   "outputs": [],
   "source": [
    "function encounter(a::Pet, b::Pet)\n",
    "    verb = meets(a, b)\n",
    "    println(\"$(name(a)) meets $(name(b)) and $verb\")\n",
    "end"
   ]
  },
  {
   "cell_type": "markdown",
   "metadata": {},
   "source": [
    "You don't have to specify types. If so, the type defaults to `Any`, which includes everything."
   ]
  },
  {
   "cell_type": "code",
   "execution_count": null,
   "metadata": {},
   "outputs": [],
   "source": [
    "name(a) = a.name  # short one-line syntax for defining functions "
   ]
  },
  {
   "cell_type": "markdown",
   "metadata": {},
   "source": [
    "## Multiple Dispatch\n",
    "\n",
    "In Julia you can specialize your functions for any combination of types. Julia will always choose the most specific implementation available. This is called **Multiple Dispatch**."
   ]
  },
  {
   "cell_type": "code",
   "execution_count": null,
   "metadata": {},
   "outputs": [],
   "source": [
    "meets(a::Dog, b::Dog) = \"sniffs\"\n",
    "meets(a::Dog, b::Cat) = \"chases\"\n",
    "meets(a::Cat, b::Dog) = \"hisses\"\n",
    "meets(a::Cat, b::Cat) = \"slinks\"\n",
    "meets(a::Pet, b::Pet) = \"...\""
   ]
  },
  {
   "cell_type": "code",
   "execution_count": null,
   "metadata": {},
   "outputs": [],
   "source": [
    "encounter(fido, rex)\n",
    "encounter(fido, whiskers)\n",
    "encounter(whiskers, rex)\n",
    "encounter(whiskers, spots)"
   ]
  },
  {
   "cell_type": "markdown",
   "metadata": {},
   "source": [
    "You can always add new types and extend functions. This even holds true for functions defined in other packages."
   ]
  },
  {
   "cell_type": "code",
   "execution_count": null,
   "metadata": {},
   "outputs": [],
   "source": [
    "struct TheDuck <: Pet end\n",
    "name(::TheDuck) = \"The duck\"\n",
    "\n",
    "theduck = TheDuck()"
   ]
  },
  {
   "cell_type": "code",
   "execution_count": null,
   "metadata": {},
   "outputs": [],
   "source": [
    "encounter(theduck, whiskers)"
   ]
  },
  {
   "cell_type": "markdown",
   "metadata": {},
   "source": [
    "## Fully Flexible Arrays"
   ]
  },
  {
   "cell_type": "code",
   "execution_count": null,
   "metadata": {},
   "outputs": [],
   "source": [
    "pets = [fido, rex, whiskers, spots, theduck]"
   ]
  },
  {
   "cell_type": "code",
   "execution_count": null,
   "metadata": {},
   "outputs": [],
   "source": [
    "name.(pets)  # use dot . to apply an arbitrary function elementwise"
   ]
  },
  {
   "cell_type": "code",
   "execution_count": null,
   "metadata": {},
   "outputs": [],
   "source": [
    "[meets(a, b) for a in pets, b in pets]  # multi dimensional for-comprehension"
   ]
  },
  {
   "cell_type": "markdown",
   "metadata": {},
   "source": [
    "# Thank you for participating\n",
    "\n",
    "In case of any questions feel free to reach me at s.sahm@reply.de\n",
    "\n",
    "If you are curious for more or want to do a Julia project, just tell me. I am always glad about new enthusiasts.\n",
    "\n",
    "<img src=\"https://images.unsplash.com/photo-1429962714451-bb934ecdc4ec?ixlib=rb-1.2.1&ixid=eyJhcHBfaWQiOjEyMDd9&auto=format&fit=crop&w=2250&q=80\" alt=\"drawing\" width=\"50%\"/>"
   ]
  }
 ],
 "metadata": {
  "kernelspec": {
   "display_name": "Julia 1.4.1",
   "language": "julia",
   "name": "julia-1.4"
  },
  "language_info": {
   "file_extension": ".jl",
   "mimetype": "application/julia",
   "name": "julia",
   "version": "1.4.1"
  }
 },
 "nbformat": 4,
 "nbformat_minor": 4
}
